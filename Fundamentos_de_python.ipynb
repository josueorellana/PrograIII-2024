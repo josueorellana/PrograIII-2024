{
  "nbformat": 4,
  "nbformat_minor": 0,
  "metadata": {
    "colab": {
      "provenance": [],
      "authorship_tag": "ABX9TyPJ5IGvnMctwAF6X2kIOQBb",
      "include_colab_link": true
    },
    "kernelspec": {
      "name": "python3",
      "display_name": "Python 3"
    },
    "language_info": {
      "name": "python"
    }
  },
  "cells": [
    {
      "cell_type": "markdown",
      "metadata": {
        "id": "view-in-github",
        "colab_type": "text"
      },
      "source": [
        "<a href=\"https://colab.research.google.com/github/josueorellana/PrograIII-2024/blob/main/Fundamentos_de_python.ipynb\" target=\"_parent\"><img src=\"https://colab.research.google.com/assets/colab-badge.svg\" alt=\"Open In Colab\"/></a>"
      ]
    },
    {
      "cell_type": "code",
      "execution_count": null,
      "metadata": {
        "colab": {
          "base_uri": "https://localhost:8080/"
        },
        "collapsed": true,
        "id": "Ih8Lcn8mPRlP",
        "outputId": "265c8153-1606-4bec-8d4e-3a89b3da7bcb"
      },
      "outputs": [
        {
          "output_type": "stream",
          "name": "stdout",
          "text": [
            "Hola mundo\n",
            "hola Josue Orellana ,inicial: J  \n"
          ]
        }
      ],
      "source": [
        "print(\"Hola mundo\")\n",
        "nombre = \"Josue Orellana\"\n",
        "print(\"hola\",nombre, \",inicial:\",nombre [0], nombre [5])"
      ]
    },
    {
      "cell_type": "markdown",
      "source": [
        "**Ejercicios:** crear un programa en Phyton que sume dos numeros"
      ],
      "metadata": {
        "id": "qlXRrebJUtXQ"
      }
    },
    {
      "cell_type": "code",
      "source": [
        "num1 = 5\n",
        "num2 = 6\n",
        "resp = num1 + num2\n",
        "print(\"El resultado es :\", resp)"
      ],
      "metadata": {
        "colab": {
          "base_uri": "https://localhost:8080/"
        },
        "collapsed": true,
        "id": "oy1NOa_xU4j6",
        "outputId": "634c7cce-0d5f-43b5-89e8-27ec4b62cebe"
      },
      "execution_count": null,
      "outputs": [
        {
          "output_type": "stream",
          "name": "stdout",
          "text": [
            "El resultado es : 11\n"
          ]
        }
      ]
    },
    {
      "cell_type": "markdown",
      "source": [
        "**Ejercicio**, crear un programa en phyton que sume dos numeros introducidos por el usuario"
      ],
      "metadata": {
        "id": "Umu9iJXNV7Rl"
      }
    },
    {
      "cell_type": "code",
      "source": [
        "print(\"num 1\")\n",
        "num1 = float(input())\n",
        "\n",
        "print(\"num 2\")\n",
        "num2 = float(input())\n",
        "\n",
        "resp = num1 + num2\n",
        "print(\"la suma es: \",resp)"
      ],
      "metadata": {
        "colab": {
          "base_uri": "https://localhost:8080/"
        },
        "collapsed": true,
        "id": "OxkGVt6EWXFI",
        "outputId": "b6b2967d-0be2-435a-b811-53d15a4fa24c"
      },
      "execution_count": null,
      "outputs": [
        {
          "output_type": "stream",
          "name": "stdout",
          "text": [
            "num 1\n",
            "2\n",
            "num 2\n",
            "3\n",
            "la suma es:  5.0\n"
          ]
        }
      ]
    },
    {
      "cell_type": "code",
      "source": [
        "from typing import Type\n",
        "\n",
        "nombre =\"Josue David\"\n",
        "print (nombre [0:4], nombre[:4], nombre[-1], nombre[5 :len(nombre)])\n",
        "\n",
        "estado = True\n",
        "print(estado)\n",
        "\n",
        "print(type(nombre), type(num1), type(num2), type(estado))"
      ],
      "metadata": {
        "colab": {
          "base_uri": "https://localhost:8080/"
        },
        "id": "HF6sI0gpZCcu",
        "outputId": "e9f734eb-51a8-49ce-b0c8-753ff00e0771"
      },
      "execution_count": null,
      "outputs": [
        {
          "output_type": "stream",
          "name": "stdout",
          "text": [
            "Josu Josu d  David\n",
            "True\n",
            "<class 'str'> <class 'float'> <class 'float'> <class 'bool'>\n"
          ]
        }
      ]
    },
    {
      "cell_type": "markdown",
      "source": [
        "**EJERCICIO**, cree un programa en Phyton que lea un numero y determine si es par o impar"
      ],
      "metadata": {
        "id": "ivOQ-3nBbxnd"
      }
    },
    {
      "cell_type": "code",
      "source": [
        "num = int(input(\"Ingrese un numero\"))\n",
        "if num % 2 == 0:\n",
        "  print(\"El numero es par\", num)\n",
        "\n",
        "else:\n",
        "    print(\"El numero es impar\")"
      ],
      "metadata": {
        "id": "kJxa26ZNcFhb"
      },
      "execution_count": null,
      "outputs": []
    },
    {
      "cell_type": "markdown",
      "source": [
        "**EJERCICIO:** Uso de las funciones de usuario, con la suma de dos numeros."
      ],
      "metadata": {
        "id": "YGIKfx0A2Ydt"
      }
    },
    {
      "cell_type": "code",
      "source": [
        "def suma (num1, num2):\n",
        "  return num1 + num2\n",
        "\n",
        "num1 = float (input(\"Num 1: \"))\n",
        "num2 = float (input(\"Num 2: \"))\n",
        "\n",
        "resp = suma (num1, num2)\n",
        "print(\"La suma es: \", resp)"
      ],
      "metadata": {
        "colab": {
          "base_uri": "https://localhost:8080/"
        },
        "collapsed": true,
        "id": "lO-rcqPQ2tQt",
        "outputId": "cb9e48b2-bdd7-46df-a31e-b1dc6723fffe"
      },
      "execution_count": null,
      "outputs": [
        {
          "output_type": "stream",
          "name": "stdout",
          "text": [
            "Num 1: 5\n",
            "Num 2: 9\n",
            "La suma es:  14.0\n"
          ]
        }
      ]
    },
    {
      "cell_type": "markdown",
      "source": [
        "**EJERCICIO:** Convertir grados celsius a farenheit, usando funciones de usuario."
      ],
      "metadata": {
        "id": "-d5Pi7QU4ENn"
      }
    },
    {
      "cell_type": "code",
      "source": [
        "def convertir_cf(c):\n",
        "  return c*1.8 + 32\n",
        "\n",
        "c = float(input(\"Celsius: \"))\n",
        "print(\"F: \",convertir_cf(c))"
      ],
      "metadata": {
        "colab": {
          "base_uri": "https://localhost:8080/"
        },
        "id": "-hxjFzt-4kb9",
        "outputId": "60c6a4bd-c418-4792-b9d3-101ce64ad46f"
      },
      "execution_count": null,
      "outputs": [
        {
          "output_type": "stream",
          "name": "stdout",
          "text": [
            "Celsius: 33\n",
            "F:  91.4\n"
          ]
        }
      ]
    },
    {
      "cell_type": "markdown",
      "source": [
        "**EJERCICIO:** Determina si un numero es par o impar."
      ],
      "metadata": {
        "id": "ncHhVC9M52jo"
      }
    },
    {
      "cell_type": "code",
      "source": [
        "def parImpar(num):\n",
        "  if(num%2==0):\n",
        "    return \"Par\"\n",
        "  return \"Impar\"\n",
        "\n",
        "num = int(input(\"Num: \"))\n",
        "print(\"El numero \", num, \" es: \", parImpar(num))"
      ],
      "metadata": {
        "colab": {
          "base_uri": "https://localhost:8080/"
        },
        "id": "jJdU0ahl6BVM",
        "outputId": "29627b18-fdda-4ae9-f2b5-ebd0302842cf"
      },
      "execution_count": null,
      "outputs": [
        {
          "output_type": "stream",
          "name": "stdout",
          "text": [
            "Num: 9\n",
            "El numero  9  es:  Impar\n"
          ]
        }
      ]
    },
    {
      "cell_type": "markdown",
      "source": [
        "**TAREA:** EJERCICIOS:\n",
        "\n",
        "**1. Convertir grados Farenheits a Celsius.**\n"
      ],
      "metadata": {
        "id": "bGkwE8CL87xH"
      }
    },
    {
      "cell_type": "code",
      "source": [
        "def conversor(f):\n",
        "  c = (f-32) * 5/9\n",
        "  return c\n",
        "\n",
        "f = float(input(\"\"\"Ingrese el numero de grados Farenheits a convertir:\n",
        " \"\"\"))\n",
        "print(F\"La conversion a grados Celsius es: {conversor(f)}\")"
      ],
      "metadata": {
        "colab": {
          "base_uri": "https://localhost:8080/"
        },
        "id": "v5xIpZlp9c5W",
        "outputId": "dfb4ba21-7b8b-46f9-9dca-4c56031f8a2a"
      },
      "execution_count": null,
      "outputs": [
        {
          "output_type": "stream",
          "name": "stdout",
          "text": [
            "Ingrese el numero de grados Farenheits a convertir:\n",
            " 60\n",
            "La conversion a grados Celsius es: 15.555555555555555\n"
          ]
        }
      ]
    },
    {
      "cell_type": "markdown",
      "source": [
        "**2. Convertir de grados [Celsius y Farenheit] a Kelvin.**"
      ],
      "metadata": {
        "id": "C8A3lm6CDqC_"
      }
    },
    {
      "cell_type": "code",
      "source": [
        "print(\"\"\"Seleccione la opción de conversión:\n",
        "1. Celsius a Kelvin\n",
        "2. Fahrenheit a Kelvin\"\"\")\n",
        "opcion = int(input(\"\"\"Ingrese la opción (1 o 2):\n",
        "\"\"\"))\n",
        "\n",
        "def CelsiusAkelvin(c):\n",
        "    return c + 273.15\n",
        "\n",
        "def FahrenheitAkelvin(f):\n",
        "    return (f - 32) * 5 / 9 + 273.15\n",
        "\n",
        "if opcion == 1:\n",
        "        c = float(input(\"\"\"Ingrese los grados Celsius a convertir:\n",
        "\"\"\"))\n",
        "        print(f\"La conversión a grados Kelvin es: {CelsiusAkelvin(c):.2f}\")\n",
        "elif opcion == 2:\n",
        "        f = float(input(\"\"\"Ingrese los grados Fahrenheit a convertir:\n",
        "\"\"\"))\n",
        "        print(f\"La conversión a grados Kelvin es: {FahrenheitAkelvin(f):.2f}\")\n",
        "else:\n",
        "        print(\"Opción no válida. Por favor, seleccione 1 o 2.\")\n",
        "\n"
      ],
      "metadata": {
        "colab": {
          "base_uri": "https://localhost:8080/"
        },
        "id": "AMqw6wIHD7z1",
        "outputId": "99a924dd-7c45-4e79-e230-bcfc728e4207"
      },
      "execution_count": null,
      "outputs": [
        {
          "output_type": "stream",
          "name": "stdout",
          "text": [
            "Seleccione la opción de conversión:\n",
            "1. Celsius a Kelvin\n",
            "2. Fahrenheit a Kelvin\n",
            "Ingrese la opción (1 o 2):\n",
            "1\n",
            "Ingrese los grados Celsius a convertir:\n",
            "1\n",
            "La conversión a grados Kelvin es: 274.15\n"
          ]
        }
      ]
    },
    {
      "cell_type": "markdown",
      "source": [
        "**EJERCICIO:** Calcular el sueldo de un trabajador."
      ],
      "metadata": {
        "id": "P7lGVFpVEYrY"
      }
    },
    {
      "cell_type": "code",
      "source": [
        "def sueldo(numHrs, valorXHrs):\n",
        "  sueldo = numHrs * valorXHrs * 30\n",
        "  if(numHrs>8):\n",
        "    sueldo = sueldo + (numHrs-8) * valorXHrs * 30\n",
        "    return sueldo\n",
        "\n",
        "numHrs = int(input(\"Horas: \"))\n",
        "valorXHrs = float(input(\"valor: \"))\n",
        "\n",
        "print(\"Sueldo: \", sueldo(numHrs, valorXHrs))"
      ],
      "metadata": {
        "colab": {
          "base_uri": "https://localhost:8080/"
        },
        "id": "f7pFw0EjEkIX",
        "outputId": "32bb4ec7-6f8e-4719-adfa-f0820fbbbcdb"
      },
      "execution_count": null,
      "outputs": [
        {
          "output_type": "stream",
          "name": "stdout",
          "text": [
            "Horas: 10\n",
            "valor: 1.5\n",
            "Sueldo:  540.0\n"
          ]
        }
      ]
    },
    {
      "cell_type": "markdown",
      "source": [
        "**EJERCICIO:** Elevar un numero al cuadrado"
      ],
      "metadata": {
        "id": "dgAhYL7yRYD7"
      }
    },
    {
      "cell_type": "code",
      "source": [
        "def elevarCuadrado(base=0,exponente=2):\n",
        "  return base ** exponente"
      ],
      "metadata": {
        "id": "Rw23bZbgR3Dh"
      },
      "execution_count": null,
      "outputs": []
    },
    {
      "cell_type": "code",
      "source": [
        "num = int(input(\"Num: \"))\n",
        "print(\"Cuadrado: \", elevarCuadrado(num, 3))"
      ],
      "metadata": {
        "colab": {
          "base_uri": "https://localhost:8080/"
        },
        "id": "cOASstRSSMw_",
        "outputId": "0d5f8744-d67b-40b8-b82f-16fa94b0c4d8"
      },
      "execution_count": null,
      "outputs": [
        {
          "output_type": "stream",
          "name": "stdout",
          "text": [
            "Num: 3\n",
            "Cuadrado:  27\n"
          ]
        }
      ]
    },
    {
      "cell_type": "markdown",
      "source": [
        "**USANDO FUNCIONES LAMBDA.**"
      ],
      "metadata": {
        "id": "H_axbuADTKLQ"
      }
    },
    {
      "cell_type": "code",
      "source": [
        "elevarCuadradoLambda = lambda base, exponente: base ** exponente"
      ],
      "metadata": {
        "id": "fwI5a5cWTg14"
      },
      "execution_count": null,
      "outputs": []
    },
    {
      "cell_type": "code",
      "source": [
        "valor = int(input(\"Num: \"))\n",
        "print(\"Cuadrado: \", elevarCuadradoLambda(valor, 2))"
      ],
      "metadata": {
        "colab": {
          "base_uri": "https://localhost:8080/"
        },
        "id": "AROYvRSuT4mw",
        "outputId": "6d64b374-ce31-4625-9570-b9fab6e7e88e"
      },
      "execution_count": null,
      "outputs": [
        {
          "output_type": "stream",
          "name": "stdout",
          "text": [
            "Num: 3\n",
            "Cuadrado:  9\n"
          ]
        }
      ]
    },
    {
      "cell_type": "code",
      "source": [
        "serie = [5,4,3,2,6,7]\n",
        "resp = map(lambda x: x**2, serie)\n",
        "print(list(resp))\n",
        "\n",
        "resp2 = map(elevarCuadrado, serie)\n",
        "print(list(resp2))"
      ],
      "metadata": {
        "colab": {
          "base_uri": "https://localhost:8080/"
        },
        "id": "v5rCXT8qWK_k",
        "outputId": "f2e1cf69-e8df-4c8a-b99e-9ae19c4f9287"
      },
      "execution_count": null,
      "outputs": [
        {
          "output_type": "stream",
          "name": "stdout",
          "text": [
            "[25, 16, 9, 4, 36, 49]\n",
            "[25, 16, 9, 4, 36, 49]\n"
          ]
        }
      ]
    },
    {
      "cell_type": "markdown",
      "source": [
        "**EJERCICIO:** Obtener la raiz cuadrada de una serie de numeros fijos"
      ],
      "metadata": {
        "id": "YXxmboOFZ_tn"
      }
    },
    {
      "cell_type": "code",
      "source": [
        "serie = [2,4,8,10,12,14]\n",
        "resp = list (map(lambda x: x** 0.5, serie))\n",
        "print(resp)"
      ],
      "metadata": {
        "colab": {
          "base_uri": "https://localhost:8080/"
        },
        "id": "DUa5W018aOay",
        "outputId": "6614fa4c-552a-47ff-ce4f-12a49267eeb3"
      },
      "execution_count": null,
      "outputs": [
        {
          "output_type": "stream",
          "name": "stdout",
          "text": [
            "[1.4142135623730951, 2.0, 2.8284271247461903, 3.1622776601683795, 3.4641016151377544, 3.7416573867739413]\n"
          ]
        }
      ]
    },
    {
      "cell_type": "markdown",
      "source": [
        "Ejercicios con funciones preconstruidas en python. :\n",
        "\n",
        "* **MAP**"
      ],
      "metadata": {
        "id": "9paWYGa5Kv8G"
      }
    },
    {
      "cell_type": "code",
      "source": [
        "numeros = [1,2,3,4,5,6,7,8,9]\n",
        "print(list(map(lambda n: n*2, numeros)))"
      ],
      "metadata": {
        "colab": {
          "base_uri": "https://localhost:8080/"
        },
        "collapsed": true,
        "id": "bGOyyfyQK-eE",
        "outputId": "82ce2c31-d86e-4f31-ef21-99b108b3b946"
      },
      "execution_count": null,
      "outputs": [
        {
          "output_type": "stream",
          "name": "stdout",
          "text": [
            "[2, 4, 6, 8, 10, 12, 14, 16, 18]\n"
          ]
        }
      ]
    },
    {
      "cell_type": "code",
      "source": [
        "numeros = [1,2,3,4,5,6,7,8,9,10]\n",
        "ntabla = int(input(\"Tabla :\"))\n",
        "print(list(map(lambda n: n*ntabla, numeros)))"
      ],
      "metadata": {
        "colab": {
          "base_uri": "https://localhost:8080/"
        },
        "id": "g-QB2-sfOGFM",
        "outputId": "28b9a27d-1ff8-4e07-f236-06b83b12e972"
      },
      "execution_count": null,
      "outputs": [
        {
          "output_type": "stream",
          "name": "stdout",
          "text": [
            "Tabla :7\n",
            "[7, 14, 21, 28, 35, 42, 49, 56, 63, 70]\n"
          ]
        }
      ]
    },
    {
      "cell_type": "markdown",
      "source": [
        "* **FILTER**"
      ],
      "metadata": {
        "id": "cfDE_kLxOufP"
      }
    },
    {
      "cell_type": "code",
      "source": [
        "numeros = [1,2,3,4,5,6,7,8,9,10]\n",
        "print(\"Pares: \", list(filter(lambda n: n%2==0, numeros)))\n",
        "print(\"Impares: \", list(filter(lambda n: n%2!=0, numeros)))"
      ],
      "metadata": {
        "colab": {
          "base_uri": "https://localhost:8080/"
        },
        "id": "3_K_XfBsO0Xp",
        "outputId": "6f65fa7f-6cb4-4658-9ed7-292096f00e4c"
      },
      "execution_count": null,
      "outputs": [
        {
          "output_type": "stream",
          "name": "stdout",
          "text": [
            "Pares:  [2, 4, 6, 8, 10]\n",
            "Impares:  [1, 3, 5, 7, 9]\n"
          ]
        }
      ]
    },
    {
      "cell_type": "code",
      "source": [
        "notas = [8,4,9,10,7,6,9,10,2,3,1,8,2,9]\n",
        "print(\"Aprobados: \", list(filter(lambda n: n>=6, notas)))\n",
        "print(\"Reprobado: \", list(filter(lambda n: n<6, notas)))"
      ],
      "metadata": {
        "colab": {
          "base_uri": "https://localhost:8080/"
        },
        "id": "WTMqPoqqPnxs",
        "outputId": "c8ef0062-8c77-43fe-f327-7532bbbe80c8"
      },
      "execution_count": null,
      "outputs": [
        {
          "output_type": "stream",
          "name": "stdout",
          "text": [
            "Aprobados:  [8, 9, 10, 7, 6, 9, 10, 8, 9]\n",
            "Reprobado:  [4, 2, 3, 1, 2]\n"
          ]
        }
      ]
    },
    {
      "cell_type": "markdown",
      "source": [
        "\n",
        "\n",
        "* **REDUCE**\n"
      ],
      "metadata": {
        "id": "LxRWD1Xly6ZO"
      }
    },
    {
      "cell_type": "code",
      "source": [
        "from functools import reduce\n",
        "numeros = [7,8,9,10]\n",
        "print(\"Suma: \", reduce (lambda n, acum: n+acum, numeros))"
      ],
      "metadata": {
        "colab": {
          "base_uri": "https://localhost:8080/"
        },
        "id": "SmPAcj0vy_KA",
        "outputId": "2880afd1-a2eb-43a5-8962-552ab916623e"
      },
      "execution_count": null,
      "outputs": [
        {
          "output_type": "stream",
          "name": "stdout",
          "text": [
            "Suma:  34\n"
          ]
        }
      ]
    },
    {
      "cell_type": "markdown",
      "source": [
        "\n",
        "* **TUPLAS**"
      ],
      "metadata": {
        "id": "ZNBJzIvm2sdJ"
      }
    },
    {
      "cell_type": "code",
      "source": [
        "numeros = (5,8,7,9,5,4,7)\n",
        "print(\"Tuplas: \", numeros, \"Primer: \", numeros[0], \"Ultimo: \", numeros[-1], \"Rango: 2-6 \", numeros[2:6])\n",
        "print(numeros.count(5))"
      ],
      "metadata": {
        "colab": {
          "base_uri": "https://localhost:8080/"
        },
        "id": "hf5AvvAL24Ik",
        "outputId": "50792156-1b3e-4be1-e6ff-b845d2c7121d"
      },
      "execution_count": null,
      "outputs": [
        {
          "output_type": "stream",
          "name": "stdout",
          "text": [
            "Tuplas:  (5, 8, 7, 9, 5, 4, 7) Primer:  5 Ultimo:  7 Rango: 2-6  (7, 9, 5, 4)\n",
            "2\n"
          ]
        }
      ]
    },
    {
      "cell_type": "code",
      "source": [
        "semana = (\"Domingo\",\"Lunes\",\"Martes\",\"Miercoles\",\"Jueves\",\"Viernes\",\"Sabado\")\n",
        "print(\"Primer dia: \",semana[0],\"; Cuantas veces repite Domingo: \",semana.count(\"Domingo\"), \"; dias de la semana: \", len(semana))"
      ],
      "metadata": {
        "colab": {
          "base_uri": "https://localhost:8080/"
        },
        "id": "RnTIuV3t4nrd",
        "outputId": "53a71f76-98d6-4623-925c-b5e075590c87"
      },
      "execution_count": null,
      "outputs": [
        {
          "output_type": "stream",
          "name": "stdout",
          "text": [
            "Primer dia:  Domingo ; Cuantas veces repite Domingo:  1 ; dias de la semana:  7\n"
          ]
        }
      ]
    },
    {
      "cell_type": "code",
      "source": [
        "import datetime\n",
        "hoy = datetime.date.today()\n",
        "dia = hoy.day\n",
        "mes = hoy.month\n",
        "year = hoy.year\n",
        "dia_semana = hoy.isoweekday()\n",
        "\n",
        "semana = (\"Domingo\",\"Lunes\",\"Martes\",\"Miercoles\",\"Jueves\",\"Viernes\",\"Sabado\")\n",
        "meses = (\"Enero\",\"Febrero\",\"Marzo\",\"Abril\",\"Mayo\",\"Junio\",\"Julio\",\"Agosto\",\"Septiembre\",\"Octubre\",\"Noviembre\",\"Diciembre\")\n",
        "\n",
        "print(\"Fecha:\", semana[dia_semana], dia , \" de \", meses [mes], \" del \", year)"
      ],
      "metadata": {
        "colab": {
          "base_uri": "https://localhost:8080/"
        },
        "id": "8xYy68P3JWgc",
        "outputId": "8aa303d6-3e59-4010-843e-ef5934dea3ad"
      },
      "execution_count": null,
      "outputs": [
        {
          "output_type": "stream",
          "name": "stdout",
          "text": [
            "Fecha: Sabado 3  de  Septiembre  del  2024\n"
          ]
        }
      ]
    },
    {
      "cell_type": "code",
      "source": [
        "tuplas = (\"Luis\",\"Juan\")\n",
        "#tuplas[0] = \"Pedro\" #las tuplas son inmutables, no pueden cambiar su valor.\n",
        "print(tuplas)\n",
        "\n",
        "listas = [\"Luis\",\"Juan\"]\n",
        "listas[0] = \"Pedro\" #las listas son mutables, si se pueden cambiar su valor.\n",
        "print(listas)"
      ],
      "metadata": {
        "colab": {
          "base_uri": "https://localhost:8080/"
        },
        "id": "4pl5ciR6Nw8G",
        "outputId": "969535e8-8774-4ad1-dc88-b63894864c81"
      },
      "execution_count": null,
      "outputs": [
        {
          "output_type": "stream",
          "name": "stdout",
          "text": [
            "('Luis', 'Juan')\n",
            "['Pedro', 'Juan']\n"
          ]
        }
      ]
    },
    {
      "cell_type": "markdown",
      "source": [
        "**LISTAS**"
      ],
      "metadata": {
        "id": "cM95z9zYOvtl"
      }
    },
    {
      "cell_type": "code",
      "source": [
        "listas = [5,8,7,9,\"Luis\",\"Jonathan\",\"Ramon\"]\n",
        "print(listas,listas[-1])"
      ],
      "metadata": {
        "colab": {
          "base_uri": "https://localhost:8080/"
        },
        "id": "WNmEK0vTOyVw",
        "outputId": "2e65f9b2-6e19-4603-d8cb-05351a3f5d02"
      },
      "execution_count": null,
      "outputs": [
        {
          "output_type": "stream",
          "name": "stdout",
          "text": [
            "[5, 8, 7, 9, 'Luis', 'Jonathan', 'Ramon'] Ramon\n"
          ]
        }
      ]
    },
    {
      "cell_type": "code",
      "source": [
        "def obtenerNota(nota, eval):\n",
        "  return eval[1]*0.3 + nota"
      ],
      "metadata": {
        "id": "p2BjLL58PODq"
      },
      "execution_count": null,
      "outputs": []
    },
    {
      "cell_type": "code",
      "source": [
        "matriz = [ [\"Lab1\", 8],[\"Lab2\", 9],[\"Parcial\", 8] ] # 8*0.3=2.4 + 9*0.3=2.7 + 8*0.3=2.4\n",
        "reduce(obtenerNota, matriz, 0)"
      ],
      "metadata": {
        "colab": {
          "base_uri": "https://localhost:8080/"
        },
        "id": "pbgLeFJ1P_Ci",
        "outputId": "2a0157d1-7677-499a-ac74-ffc3e9eafedc"
      },
      "execution_count": null,
      "outputs": [
        {
          "output_type": "execute_result",
          "data": {
            "text/plain": [
              "7.5"
            ]
          },
          "metadata": {},
          "execution_count": 16
        }
      ]
    },
    {
      "cell_type": "code",
      "source": [
        "serie = [1,2,3,3,4,4,1,8,9]\n",
        "print(serie.count(1))"
      ],
      "metadata": {
        "id": "f_tAIv1SYsg1",
        "colab": {
          "base_uri": "https://localhost:8080/"
        },
        "outputId": "10b0baca-0c0a-4f64-d8dc-fee8a3bb0bd8"
      },
      "execution_count": null,
      "outputs": [
        {
          "output_type": "stream",
          "name": "stdout",
          "text": [
            "2\n"
          ]
        }
      ]
    },
    {
      "cell_type": "code",
      "source": [
        "numeros = []\n",
        "for i in range(1,10):\n",
        "  numeros.append(int(input(\"Num: \"+ str(i)+\": \")))\n",
        "num = int(input(\"Num a buscar: \"))\n",
        "print(\"Serie: \", numeros, \"El numero \", num, \", se repite: \", numeros.count(num))"
      ],
      "metadata": {
        "colab": {
          "base_uri": "https://localhost:8080/"
        },
        "id": "5s7lytpiYyPw",
        "outputId": "6b1c6165-a6c7-485e-943c-73851d7e3f86"
      },
      "execution_count": null,
      "outputs": [
        {
          "output_type": "stream",
          "name": "stdout",
          "text": [
            "Num: 1: 2\n",
            "Num: 2: 3\n",
            "Num: 3: 4\n",
            "Num: 4: 5\n",
            "Num: 5: 6\n",
            "Num: 6: 7\n",
            "Num: 7: 8\n",
            "Num: 8: 9\n",
            "Num: 9: 12\n",
            "Num a buscar: 7\n",
            "Serie:  [2, 3, 4, 5, 6, 7, 8, 9, 12] El numero  7 , se repite:  1\n"
          ]
        }
      ]
    },
    {
      "cell_type": "code",
      "source": [
        "numeros = [1,5,2,6,2,1,4]\n",
        "numeros.sort()\n",
        "numeros.reverse()\n",
        "print(numeros)"
      ],
      "metadata": {
        "colab": {
          "base_uri": "https://localhost:8080/"
        },
        "id": "c6lXVhvrY6os",
        "outputId": "9a24d565-d15a-4eb9-b1c9-98ca4ac21fb8"
      },
      "execution_count": null,
      "outputs": [
        {
          "output_type": "stream",
          "name": "stdout",
          "text": [
            "[6, 5, 4, 2, 2, 1, 1]\n"
          ]
        }
      ]
    },
    {
      "cell_type": "markdown",
      "source": [
        "**DICCIONARIOS - JSON**"
      ],
      "metadata": {
        "id": "QhfckWQLZDGZ"
      }
    },
    {
      "cell_type": "code",
      "source": [
        "datos = {\n",
        "    \"codigo\":\"USIS018804\",\n",
        "    \"nombre\":\"Luis Hernandez\",\n",
        "    \"materias\":[\n",
        "        {\"codigo\":\"611\",\"nombre\":\"Programacion III\",\"notas\":{\n",
        "            \"c1\":{\"lab1\":8,\"lab2\":9,\"parcial\":10},\n",
        "            \"c2\":{\"lab1\":10,\"lab2\":9,\"parcial\":10},\n",
        "            \"c3\":{\"lab1\":4,\"lab2\":5,\"parcial\":8}\n",
        "            }\n",
        "         },\n",
        "        {\"codigo\":\"612\",\"nombre\":\"Base de Datos\"}\n",
        "    ]\n",
        "}\n",
        "print(datos[\"nombre\"], datos[\"materias\"][0][\"nombre\"], datos[\"materias\"][0][\"notas\"][\"c1\"])"
      ],
      "metadata": {
        "colab": {
          "base_uri": "https://localhost:8080/"
        },
        "id": "4vUygMjMZJgJ",
        "outputId": "28ec1246-cd08-42be-ca45-e163d9e3927a"
      },
      "execution_count": null,
      "outputs": [
        {
          "output_type": "stream",
          "name": "stdout",
          "text": [
            "Luis Hernandez Programacion III {'lab1': 8, 'lab2': 9, 'parcial': 10}\n"
          ]
        }
      ]
    },
    {
      "cell_type": "markdown",
      "source": [
        "**Estructuras de control if** Ejercicios: Solicitar la edad y realizar la clasificacion."
      ],
      "metadata": {
        "id": "SuQS8Mnwcbln"
      }
    },
    {
      "cell_type": "code",
      "source": [
        "edad = int(input(\"Edad \"))\n",
        "if edad>17:\n",
        "  print(\"Bienvenido al mundo de las responsabilidades\")"
      ],
      "metadata": {
        "colab": {
          "base_uri": "https://localhost:8080/"
        },
        "id": "ivkJsknnelu9",
        "outputId": "60eb89db-336e-4f18-abed-50e399842343"
      },
      "execution_count": null,
      "outputs": [
        {
          "output_type": "stream",
          "name": "stdout",
          "text": [
            "Edad 20\n",
            "Bienvenido al mundo de las responsabilidades\n"
          ]
        }
      ]
    },
    {
      "cell_type": "code",
      "source": [
        "continuar = \"s\"\n",
        "while continuar==\"s\":\n",
        "  edad = int(input(\"Edad: \"))\n",
        "  if(edad<0):\n",
        "    print(\"Edad incorrecta\")\n",
        "  elif edad<=2:\n",
        "    print(\"Eres un bebe\")\n",
        "  elif edad<12:\n",
        "    print(\"Eres un niño\")\n",
        "  elif edad<18:\n",
        "    print(\"Eres un adolescente\")\n",
        "  elif edad<65:\n",
        "    print(\"Eres un adulto\")\n",
        "  elif edad<85:\n",
        "    print(\"Eres un adulto mayor\")\n",
        "  else:\n",
        "    print(\"Larga vida\")\n",
        "  continuar = input(\"Continuar s, sino cualquier tecla: \")"
      ],
      "metadata": {
        "id": "ikgr9d1WfSUs",
        "colab": {
          "base_uri": "https://localhost:8080/"
        },
        "outputId": "8c402472-6a2a-41fb-db4a-5795453e1537"
      },
      "execution_count": null,
      "outputs": [
        {
          "name": "stdout",
          "output_type": "stream",
          "text": [
            "Edad: -2\n",
            "Edad incorrecta\n",
            "Continuar s, sino cualquier tecla: s\n",
            "Edad: 5\n",
            "Eres un niño\n",
            "Continuar s, sino cualquier tecla: n\n"
          ]
        }
      ]
    },
    {
      "cell_type": "markdown",
      "source": [
        "**Solicitar un numero y verififcar si es positivo o negativo**"
      ],
      "metadata": {
        "id": "LzHiHymnGDQC"
      }
    },
    {
      "cell_type": "markdown",
      "source": [
        "**Solicitar una tabla de multiplicar y generarla**"
      ],
      "metadata": {
        "id": "tQtP05GwGSGJ"
      }
    },
    {
      "cell_type": "code",
      "source": [
        "continuar=\"s\"\n",
        "while continuar==\"s\":\n",
        "  tabla = int(input(\"Tabla: \"))\n",
        "  for i in range(1,11):\n",
        "    print(tabla, \"x\", i, \"=\", tabla*i)\n",
        "  continuar = input(\"Continuar s, sino cualquier tecla: \")"
      ],
      "metadata": {
        "colab": {
          "base_uri": "https://localhost:8080/"
        },
        "id": "ADGCOLRYGUfZ",
        "outputId": "af517bae-f837-40f9-eec1-db7d676fabb9"
      },
      "execution_count": null,
      "outputs": [
        {
          "name": "stdout",
          "output_type": "stream",
          "text": [
            "Tabla: 7\n",
            "7 x 1 = 7\n",
            "7 x 2 = 14\n",
            "7 x 3 = 21\n",
            "7 x 4 = 28\n",
            "7 x 5 = 35\n",
            "7 x 6 = 42\n",
            "7 x 7 = 49\n",
            "7 x 8 = 56\n",
            "7 x 9 = 63\n",
            "7 x 10 = 70\n",
            "Continuar s, sino cualquier tecla: s\n",
            "Tabla: 9\n",
            "9 x 1 = 9\n",
            "9 x 2 = 18\n",
            "9 x 3 = 27\n",
            "9 x 4 = 36\n",
            "9 x 5 = 45\n",
            "9 x 6 = 54\n",
            "9 x 7 = 63\n",
            "9 x 8 = 72\n",
            "9 x 9 = 81\n",
            "9 x 10 = 90\n",
            "Continuar s, sino cualquier tecla: n\n"
          ]
        }
      ]
    },
    {
      "cell_type": "markdown",
      "source": [
        "**PROGRAMACION ORIENTADA A OBJETOS**"
      ],
      "metadata": {
        "id": "Ex_Ehf25OhRT"
      }
    },
    {
      "cell_type": "markdown",
      "source": [
        "* **CLASE**\n",
        "\n"
      ],
      "metadata": {
        "id": "_qzi_1mpOpFN"
      }
    },
    {
      "cell_type": "code",
      "source": [
        "class Calculadora:\n",
        "  def sumar(self, num1, num2):\n",
        "    return num1 + num2"
      ],
      "metadata": {
        "id": "BIi9PTOjO0jO"
      },
      "execution_count": null,
      "outputs": []
    },
    {
      "cell_type": "markdown",
      "source": [
        "\n",
        "* **OBJETOS**\n",
        "\n"
      ],
      "metadata": {
        "id": "UqdrZIRqO4IM"
      }
    },
    {
      "cell_type": "code",
      "source": [
        "#instanciar la clase Calculadora, para crear el objeto a partir de la clase.\n",
        "objCalculadora = Calculadora()\n",
        "num1 = float(input(\"Num 1: \"))\n",
        "num2 = float(input(\"Num 2: \"))\n",
        "print(\"Suma: \", objCalculadora.sumar(num1, num2))"
      ],
      "metadata": {
        "id": "QD3IkA65O9pk"
      },
      "execution_count": null,
      "outputs": []
    },
    {
      "cell_type": "markdown",
      "source": [
        "\n",
        "**EJERCICIO** Escriba un programa que lea una serie de numeros introducidos por el usuario, y determine la media aritmetica."
      ],
      "metadata": {
        "id": "NPHWfhMuPEEU"
      }
    },
    {
      "cell_type": "code",
      "source": [
        "from math import sqrt\n",
        "\n",
        "class estadistica:\n",
        "  def media(self, serie):\n",
        "    suma = 0\n",
        "    for num in serie:\n",
        "      suma += num\n",
        "    return suma/len(serie)\n",
        "\n",
        "  def tipica(self, serie):\n",
        "    media = self.media(serie)\n",
        "    suma = 0\n",
        "    for num in serie:\n",
        "      suma += (num-media)**2\n",
        "    return sqrt(suma/len(serie))"
      ],
      "metadata": {
        "id": "e_sdOYyUPLYl"
      },
      "execution_count": null,
      "outputs": []
    },
    {
      "cell_type": "code",
      "source": [
        "n = int(input(\"Cuantos numeros va a ingresar: \"))\n",
        "serie = []\n",
        "for num in range(1,n+1):\n",
        "  serie.append(int(input(\"Num: \")))\n",
        "\n",
        "objEstadistica = estadistica()\n",
        "print(\"La media es: \", objEstadistica.media(serie))\n",
        "\n",
        "print(\"La desviacion tipica es: \", round(objEstadistica.tipica(serie),3) )"
      ],
      "metadata": {
        "id": "YxJBq0SpPWDt"
      },
      "execution_count": null,
      "outputs": []
    },
    {
      "cell_type": "markdown",
      "source": [
        "\n",
        "**TAREA:**"
      ],
      "metadata": {
        "id": "0CkYm6lYPpVM"
      }
    },
    {
      "cell_type": "markdown",
      "source": [
        "**Encontrar de una serie de numeros introducidos por el usuario la varianza**"
      ],
      "metadata": {
        "id": "C2PGgUoAYAKF"
      }
    },
    {
      "cell_type": "code",
      "source": [
        "import numpy as np\n",
        "print(\"Calcule la varianza de 5 numeros\")\n",
        "numeros = []\n",
        "for i in range(5):\n",
        "    numero = float(input(f\"Introduce el número {i+1}: \"))\n",
        "    numeros.append(numero)\n",
        "\n",
        "numeros_array = np.array(numeros)\n",
        "\n",
        "varianza = np.var(numeros_array)\n",
        "\n",
        "print(f\"La varianza de los números introducidos es: {varianza}\")\n"
      ],
      "metadata": {
        "colab": {
          "base_uri": "https://localhost:8080/"
        },
        "collapsed": true,
        "id": "96TUTcTaRO1r",
        "outputId": "fd130578-59a4-43ef-8478-68328c6d265c"
      },
      "execution_count": 3,
      "outputs": [
        {
          "output_type": "stream",
          "name": "stdout",
          "text": [
            "Calcule la varianza de 5 numeros\n",
            "Introduce el número 1: 10\n",
            "Introduce el número 2: 15\n",
            "Introduce el número 3: 13\n",
            "Introduce el número 4: 14\n",
            "Introduce el número 5: 11\n",
            "La varianza de los números introducidos es: 3.44\n"
          ]
        }
      ]
    },
    {
      "cell_type": "markdown",
      "source": [
        "**Encontrar de una serie de numeros introducidos por el usuario la frecuencuia**"
      ],
      "metadata": {
        "id": "HzXfqTEmYMWV"
      }
    },
    {
      "cell_type": "code",
      "source": [
        "from collections import Counter\n",
        "print(\"Introduzca 6 numero para encontrar su frecuencia3\")\n",
        "numeros = []\n",
        "for i in range(6):\n",
        "    numero = float(input(f\"Introduce el número {i+1}: \"))\n",
        "    numeros.append(numero)\n",
        "\n",
        "frecuencia = Counter(numeros)\n",
        "2\n",
        "print(\"\\nFrecuencia de los números introducidos:\")\n",
        "for numero, freq in frecuencia.items():\n",
        "    print(f\"Número {numero} se repite: {freq} vez/veces\")\n"
      ],
      "metadata": {
        "colab": {
          "base_uri": "https://localhost:8080/"
        },
        "collapsed": true,
        "id": "9lfzeX1FTy1F",
        "outputId": "61153eee-16f3-482c-8e19-ba70d563351b"
      },
      "execution_count": 11,
      "outputs": [
        {
          "output_type": "stream",
          "name": "stdout",
          "text": [
            "Introduzca 6 numero para encontrar su frecuencia3\n",
            "Introduce el número 1: 3\n",
            "Introduce el número 2: 3\n",
            "Introduce el número 3: 6\n",
            "Introduce el número 4: 7\n",
            "Introduce el número 5: 8\n",
            "Introduce el número 6: 9\n",
            "\n",
            "Frecuencia de los números introducidos:\n",
            "Número 3.0 se repite: 2 vez/veces\n",
            "Número 6.0 se repite: 1 vez/veces\n",
            "Número 7.0 se repite: 1 vez/veces\n",
            "Número 8.0 se repite: 1 vez/veces\n",
            "Número 9.0 se repite: 1 vez/veces\n"
          ]
        }
      ]
    },
    {
      "cell_type": "markdown",
      "source": [
        "**Escriba un programa que determine si una palabra introducida por el usuario es palindrome.**"
      ],
      "metadata": {
        "id": "7Cmpcq5yYT2c"
      }
    },
    {
      "cell_type": "code",
      "source": [
        "def es_palindromo(palabra):\n",
        "    palabra = palabra.replace(\" \", \"\").lower()\n",
        "    return palabra == palabra[::-1]\n",
        "\n",
        "entrada = input(\"Introduce una palabra para verificar si es un palíndromo: \")\n",
        "\n",
        "if es_palindromo(entrada):\n",
        "    print(f\"La palabra '{entrada}' es un palíndromo.\")\n",
        "else:\n",
        "    print(f\"La palabra '{entrada}' no es un palíndromo.\")\n"
      ],
      "metadata": {
        "colab": {
          "base_uri": "https://localhost:8080/"
        },
        "collapsed": true,
        "id": "puG7x5EzXQdG",
        "outputId": "be50cfc9-18b0-4651-faf7-4217605fa6e9"
      },
      "execution_count": 17,
      "outputs": [
        {
          "output_type": "stream",
          "name": "stdout",
          "text": [
            "Introduce una palabra para verificar si es un palíndromo: leer\n",
            "La palabra 'leer' no es un palíndromo.\n"
          ]
        }
      ]
    }
  ]
}